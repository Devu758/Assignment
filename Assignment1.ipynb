{
 "cells": [
  {
   "cell_type": "code",
   "execution_count": 2,
   "id": "988932bf",
   "metadata": {},
   "outputs": [
    {
     "name": "stderr",
     "output_type": "stream",
     "text": [
      "UsageError: Line magic function `%matplotlib.inline` not found.\n"
     ]
    }
   ],
   "source": [
    "import numpy as np\n",
    "import pandas as pd\n",
    "%matplotlib.inline\n",
    "import matplotlib as mpl\n",
    "import matplotlib.pyplot as plt\n",
    "import os"
   ]
  },
  {
   "cell_type": "code",
   "execution_count": 3,
   "id": "d0a80885",
   "metadata": {},
   "outputs": [],
   "source": [
    "import tensorflow as tf\n",
    "from tensorflow import keras"
   ]
  },
  {
   "cell_type": "code",
   "execution_count": 59,
   "id": "439e3d72",
   "metadata": {},
   "outputs": [],
   "source": [
    "train_dir ='C:/Users/DEVU/Downloads/Dataset/Training'\n",
    "validation_dir ='C:/Users/DEVU/Downloads/Dataset/Validation'\n",
    "test_dir = 'C:/Users/DEVU/Downloads/Dataset/Testing'"
   ]
  },
  {
   "cell_type": "code",
   "execution_count": 5,
   "id": "abcf306a",
   "metadata": {},
   "outputs": [],
   "source": [
    "from tensorflow.keras.preprocessing.image import ImageDataGenerator"
   ]
  },
  {
   "cell_type": "code",
   "execution_count": 60,
   "id": "6bdd7ab5",
   "metadata": {},
   "outputs": [
    {
     "name": "stdout",
     "output_type": "stream",
     "text": [
      "Found 1440 images belonging to 6 classes.\n",
      "Found 480 images belonging to 6 classes.\n"
     ]
    }
   ],
   "source": [
    "train_datagen = ImageDataGenerator(rescale=1./255)\n",
    "test_datagen = ImageDataGenerator(rescale=1./255)\n",
    "test_datage = ImageDataGenerator(rescale=1./255)\n",
    "\n",
    "train_generator = train_datagen.flow_from_directory(\n",
    "        train_dir,\n",
    "        target_size=(150,150),\n",
    "        batch_size =2,\n",
    "        class_mode='categorical')\n",
    "\n",
    "validation_generator = test_datagen.flow_from_directory(\n",
    "        validation_dir,\n",
    "        target_size=(150,150),\n",
    "        batch_size =2,\n",
    "        class_mode='categorical')\n"
   ]
  },
  {
   "cell_type": "code",
   "execution_count": 7,
   "id": "6c0ba9f7",
   "metadata": {},
   "outputs": [],
   "source": [
    "from tensorflow.keras import layers\n",
    "from tensorflow.keras import models"
   ]
  },
  {
   "cell_type": "code",
   "execution_count": 8,
   "id": "f2b37919",
   "metadata": {},
   "outputs": [],
   "source": [
    "model = models.Sequential()\n",
    "\n",
    "model.add(layers.Conv2D(32, (3,3),activation = 'relu', input_shape=(150,150,3)))\n",
    "model.add(layers.MaxPooling2D((2,2)))\n",
    "\n",
    "model.add(layers.Conv2D(64, (3,3),activation = 'relu', ))\n",
    "model.add(layers.MaxPooling2D((2,2)))\n",
    "\n",
    "model.add(layers.Conv2D(128, (3,3),activation = 'relu', ))\n",
    "model.add(layers.MaxPooling2D((2,2)))\n",
    "\n",
    "model.add(layers.Conv2D(128, (3,3),activation = 'relu', ))\n",
    "model.add(layers.MaxPooling2D((2,2)))\n",
    "\n",
    "model.add(layers.Flatten())\n",
    "\n",
    "model.add(layers.Dense(512, activation = \"relu\"))\n",
    "\n",
    "model.add(layers.Dense(6, activation = 'softmax'))"
   ]
  },
  {
   "cell_type": "code",
   "execution_count": 9,
   "id": "cd641987",
   "metadata": {
    "scrolled": true
   },
   "outputs": [
    {
     "name": "stdout",
     "output_type": "stream",
     "text": [
      "Model: \"sequential\"\n",
      "_________________________________________________________________\n",
      "Layer (type)                 Output Shape              Param #   \n",
      "=================================================================\n",
      "conv2d (Conv2D)              (None, 148, 148, 32)      896       \n",
      "_________________________________________________________________\n",
      "max_pooling2d (MaxPooling2D) (None, 74, 74, 32)        0         \n",
      "_________________________________________________________________\n",
      "conv2d_1 (Conv2D)            (None, 72, 72, 64)        18496     \n",
      "_________________________________________________________________\n",
      "max_pooling2d_1 (MaxPooling2 (None, 36, 36, 64)        0         \n",
      "_________________________________________________________________\n",
      "conv2d_2 (Conv2D)            (None, 34, 34, 128)       73856     \n",
      "_________________________________________________________________\n",
      "max_pooling2d_2 (MaxPooling2 (None, 17, 17, 128)       0         \n",
      "_________________________________________________________________\n",
      "conv2d_3 (Conv2D)            (None, 15, 15, 128)       147584    \n",
      "_________________________________________________________________\n",
      "max_pooling2d_3 (MaxPooling2 (None, 7, 7, 128)         0         \n",
      "_________________________________________________________________\n",
      "flatten (Flatten)            (None, 6272)              0         \n",
      "_________________________________________________________________\n",
      "dense (Dense)                (None, 512)               3211776   \n",
      "_________________________________________________________________\n",
      "dense_1 (Dense)              (None, 6)                 3078      \n",
      "=================================================================\n",
      "Total params: 3,455,686\n",
      "Trainable params: 3,455,686\n",
      "Non-trainable params: 0\n",
      "_________________________________________________________________\n"
     ]
    }
   ],
   "source": [
    "model.summary()"
   ]
  },
  {
   "cell_type": "code",
   "execution_count": 10,
   "id": "503eb466",
   "metadata": {},
   "outputs": [
    {
     "name": "stderr",
     "output_type": "stream",
     "text": [
      "C:\\Users\\DEVU\\anaconda3\\lib\\site-packages\\keras\\optimizer_v2\\optimizer_v2.py:355: UserWarning: The `lr` argument is deprecated, use `learning_rate` instead.\n",
      "  warnings.warn(\n"
     ]
    }
   ],
   "source": [
    "from tensorflow.keras import optimizers\n",
    "\n",
    "model.compile(loss='categorical_crossentropy',optimizer=optimizers.RMSprop(lr=1e-4),metrics=['acc'])\n",
    "\n"
   ]
  },
  {
   "cell_type": "code",
   "execution_count": 11,
   "id": "714b9971",
   "metadata": {
    "scrolled": false
   },
   "outputs": [
    {
     "name": "stderr",
     "output_type": "stream",
     "text": [
      "C:\\Users\\DEVU\\anaconda3\\lib\\site-packages\\keras\\engine\\training.py:1972: UserWarning: `Model.fit_generator` is deprecated and will be removed in a future version. Please use `Model.fit`, which supports generators.\n",
      "  warnings.warn('`Model.fit_generator` is deprecated and '\n"
     ]
    },
    {
     "name": "stdout",
     "output_type": "stream",
     "text": [
      "Epoch 1/40\n",
      "120/120 [==============================] - 22s 179ms/step - loss: 1.8028 - acc: 0.1792 - val_loss: 1.7872 - val_acc: 0.1917\n",
      "Epoch 2/40\n",
      "120/120 [==============================] - 18s 151ms/step - loss: 1.7818 - acc: 0.2042 - val_loss: 1.7594 - val_acc: 0.2354\n",
      "Epoch 3/40\n",
      "120/120 [==============================] - 19s 160ms/step - loss: 1.7338 - acc: 0.3000 - val_loss: 1.7267 - val_acc: 0.2542\n",
      "Epoch 4/40\n",
      "120/120 [==============================] - 20s 164ms/step - loss: 1.6922 - acc: 0.2875 - val_loss: 1.7029 - val_acc: 0.2750\n",
      "Epoch 5/40\n",
      "120/120 [==============================] - 23s 194ms/step - loss: 1.6858 - acc: 0.3292 - val_loss: 1.6831 - val_acc: 0.2667\n",
      "Epoch 6/40\n",
      "120/120 [==============================] - 21s 177ms/step - loss: 1.6298 - acc: 0.3083 - val_loss: 1.6705 - val_acc: 0.2917\n",
      "Epoch 7/40\n",
      "120/120 [==============================] - 21s 172ms/step - loss: 1.6116 - acc: 0.3833 - val_loss: 1.6608 - val_acc: 0.3083\n",
      "Epoch 8/40\n",
      "120/120 [==============================] - 21s 176ms/step - loss: 1.5949 - acc: 0.3625 - val_loss: 1.6566 - val_acc: 0.3000\n",
      "Epoch 9/40\n",
      "120/120 [==============================] - 21s 173ms/step - loss: 1.5591 - acc: 0.3833 - val_loss: 1.6551 - val_acc: 0.3250\n",
      "Epoch 10/40\n",
      "120/120 [==============================] - 22s 182ms/step - loss: 1.4976 - acc: 0.3917 - val_loss: 1.6100 - val_acc: 0.3313\n",
      "Epoch 11/40\n",
      "120/120 [==============================] - 22s 181ms/step - loss: 1.4953 - acc: 0.4292 - val_loss: 1.6793 - val_acc: 0.3396\n",
      "Epoch 12/40\n",
      "120/120 [==============================] - 20s 167ms/step - loss: 1.3837 - acc: 0.4792 - val_loss: 1.6613 - val_acc: 0.3250\n",
      "Epoch 13/40\n",
      "120/120 [==============================] - 22s 185ms/step - loss: 1.5157 - acc: 0.4042 - val_loss: 1.7416 - val_acc: 0.2792\n",
      "Epoch 14/40\n",
      "120/120 [==============================] - 22s 186ms/step - loss: 1.4204 - acc: 0.4042 - val_loss: 1.6893 - val_acc: 0.3104\n",
      "Epoch 15/40\n",
      "120/120 [==============================] - 21s 175ms/step - loss: 1.4250 - acc: 0.4292 - val_loss: 1.7117 - val_acc: 0.3250\n",
      "Epoch 16/40\n",
      "120/120 [==============================] - 21s 174ms/step - loss: 1.4290 - acc: 0.4583 - val_loss: 1.6566 - val_acc: 0.3229\n",
      "Epoch 17/40\n",
      "120/120 [==============================] - 21s 173ms/step - loss: 1.3347 - acc: 0.5125 - val_loss: 1.8799 - val_acc: 0.3042\n",
      "Epoch 18/40\n",
      "120/120 [==============================] - 20s 171ms/step - loss: 1.4772 - acc: 0.4625 - val_loss: 1.6031 - val_acc: 0.3313\n",
      "Epoch 19/40\n",
      "120/120 [==============================] - 23s 190ms/step - loss: 1.3895 - acc: 0.4750 - val_loss: 1.6330 - val_acc: 0.3333\n",
      "Epoch 20/40\n",
      "120/120 [==============================] - 22s 181ms/step - loss: 1.2798 - acc: 0.5167 - val_loss: 1.7421 - val_acc: 0.3500\n",
      "Epoch 21/40\n",
      "120/120 [==============================] - 22s 185ms/step - loss: 1.2778 - acc: 0.5125 - val_loss: 1.9324 - val_acc: 0.3333\n",
      "Epoch 22/40\n",
      "120/120 [==============================] - 20s 171ms/step - loss: 1.3747 - acc: 0.4875 - val_loss: 1.7058 - val_acc: 0.3333\n",
      "Epoch 23/40\n",
      "120/120 [==============================] - 19s 161ms/step - loss: 1.2411 - acc: 0.5417 - val_loss: 1.7247 - val_acc: 0.3542\n",
      "Epoch 24/40\n",
      "120/120 [==============================] - 21s 177ms/step - loss: 1.3016 - acc: 0.5208 - val_loss: 1.6566 - val_acc: 0.3625\n",
      "Epoch 25/40\n",
      "120/120 [==============================] - 22s 182ms/step - loss: 1.2146 - acc: 0.5292 - val_loss: 1.8493 - val_acc: 0.3125\n",
      "Epoch 26/40\n",
      "120/120 [==============================] - 19s 162ms/step - loss: 1.2014 - acc: 0.5583 - val_loss: 1.7439 - val_acc: 0.3562\n",
      "Epoch 27/40\n",
      "120/120 [==============================] - 20s 169ms/step - loss: 1.2419 - acc: 0.5292 - val_loss: 1.7523 - val_acc: 0.3333\n",
      "Epoch 28/40\n",
      "120/120 [==============================] - 21s 172ms/step - loss: 1.1010 - acc: 0.6000 - val_loss: 1.8268 - val_acc: 0.3417\n",
      "Epoch 29/40\n",
      "120/120 [==============================] - 20s 169ms/step - loss: 1.1778 - acc: 0.5750 - val_loss: 1.7307 - val_acc: 0.3375\n",
      "Epoch 30/40\n",
      "120/120 [==============================] - 21s 177ms/step - loss: 1.1717 - acc: 0.5625 - val_loss: 1.8496 - val_acc: 0.3438\n",
      "Epoch 31/40\n",
      "120/120 [==============================] - 22s 184ms/step - loss: 1.0805 - acc: 0.5958 - val_loss: 1.8482 - val_acc: 0.3417\n",
      "Epoch 32/40\n",
      "120/120 [==============================] - 21s 176ms/step - loss: 1.1294 - acc: 0.5917 - val_loss: 1.8164 - val_acc: 0.3187\n",
      "Epoch 33/40\n",
      "120/120 [==============================] - 21s 173ms/step - loss: 0.9766 - acc: 0.6542 - val_loss: 1.9079 - val_acc: 0.3500\n",
      "Epoch 34/40\n",
      "120/120 [==============================] - 21s 175ms/step - loss: 1.0878 - acc: 0.6250 - val_loss: 1.9356 - val_acc: 0.3292\n",
      "Epoch 35/40\n",
      "120/120 [==============================] - 21s 178ms/step - loss: 0.9773 - acc: 0.6458 - val_loss: 1.9463 - val_acc: 0.3271\n",
      "Epoch 36/40\n",
      "120/120 [==============================] - 20s 164ms/step - loss: 1.0123 - acc: 0.6500 - val_loss: 2.0156 - val_acc: 0.3271\n",
      "Epoch 37/40\n",
      "120/120 [==============================] - 21s 175ms/step - loss: 0.9874 - acc: 0.6667 - val_loss: 1.8514 - val_acc: 0.3396\n",
      "Epoch 38/40\n",
      "120/120 [==============================] - 21s 176ms/step - loss: 1.0352 - acc: 0.6333 - val_loss: 1.8882 - val_acc: 0.3562\n",
      "Epoch 39/40\n",
      "120/120 [==============================] - 20s 167ms/step - loss: 0.9531 - acc: 0.6667 - val_loss: 1.9301 - val_acc: 0.3542\n",
      "Epoch 40/40\n",
      "120/120 [==============================] - 21s 171ms/step - loss: 0.9500 - acc: 0.7042 - val_loss: 1.9076 - val_acc: 0.3604\n"
     ]
    }
   ],
   "source": [
    "history = model.fit_generator(\n",
    "        train_generator,\n",
    "        steps_per_epoch=120,\n",
    "        epochs=40,\n",
    "        validation_data=validation_generator,\n",
    "        validation_steps=240)"
   ]
  },
  {
   "cell_type": "code",
   "execution_count": 12,
   "id": "6418ad8e",
   "metadata": {},
   "outputs": [
    {
     "ename": "NameError",
     "evalue": "name 'plt' is not defined",
     "output_type": "error",
     "traceback": [
      "\u001b[1;31m---------------------------------------------------------------------------\u001b[0m",
      "\u001b[1;31mNameError\u001b[0m                                 Traceback (most recent call last)",
      "\u001b[1;32m<ipython-input-12-c03b0fbedafe>\u001b[0m in \u001b[0;36m<module>\u001b[1;34m\u001b[0m\n\u001b[0;32m      1\u001b[0m \u001b[0mpd\u001b[0m\u001b[1;33m.\u001b[0m\u001b[0mDataFrame\u001b[0m\u001b[1;33m(\u001b[0m\u001b[0mhistory\u001b[0m\u001b[1;33m.\u001b[0m\u001b[0mhistory\u001b[0m\u001b[1;33m)\u001b[0m\u001b[1;33m.\u001b[0m\u001b[0mplot\u001b[0m\u001b[1;33m(\u001b[0m\u001b[0mfigsize\u001b[0m\u001b[1;33m=\u001b[0m\u001b[1;33m(\u001b[0m\u001b[1;36m8\u001b[0m\u001b[1;33m,\u001b[0m\u001b[1;36m5\u001b[0m\u001b[1;33m)\u001b[0m\u001b[1;33m)\u001b[0m\u001b[1;33m\u001b[0m\u001b[1;33m\u001b[0m\u001b[0m\n\u001b[1;32m----> 2\u001b[1;33m \u001b[0mplt\u001b[0m\u001b[1;33m.\u001b[0m\u001b[0mgrid\u001b[0m\u001b[1;33m(\u001b[0m\u001b[1;32mTrue\u001b[0m\u001b[1;33m)\u001b[0m\u001b[1;33m\u001b[0m\u001b[1;33m\u001b[0m\u001b[0m\n\u001b[0m\u001b[0;32m      3\u001b[0m \u001b[0mplt\u001b[0m\u001b[1;33m.\u001b[0m\u001b[0mgca\u001b[0m\u001b[1;33m(\u001b[0m\u001b[1;33m)\u001b[0m\u001b[1;33m.\u001b[0m\u001b[0mset_ylin\u001b[0m\u001b[1;33m(\u001b[0m\u001b[1;36m0\u001b[0m\u001b[1;33m,\u001b[0m\u001b[1;36m1\u001b[0m\u001b[1;33m)\u001b[0m\u001b[1;33m\u001b[0m\u001b[1;33m\u001b[0m\u001b[0m\n\u001b[0;32m      4\u001b[0m \u001b[0mplt\u001b[0m\u001b[1;33m.\u001b[0m\u001b[0mshow\u001b[0m\u001b[1;33m(\u001b[0m\u001b[1;33m)\u001b[0m\u001b[1;33m\u001b[0m\u001b[1;33m\u001b[0m\u001b[0m\n",
      "\u001b[1;31mNameError\u001b[0m: name 'plt' is not defined"
     ]
    },
    {
     "data": {
      "image/png": "[encoded data removed]",
      "text/plain": [
       "<Figure size 576x360 with 1 Axes>"
      ]
     },
     "metadata": {
      "needs_background": "light"
     },
     "output_type": "display_data"
    }
   ],
   "source": [
    "pd.DataFrame(history.history).plot(figsize=(8,5))\n",
    "plt.grid(True)\n",
    "plt.gca().set_ylin(0,1)\n",
    "plt.show()"
   ]
  },
  {
   "cell_type": "code",
   "execution_count": 32,
   "id": "ca762a4a",
   "metadata": {},
   "outputs": [
    {
     "name": "stdout",
     "output_type": "stream",
     "text": [
      "Found 1440 images belonging to 6 classes.\n",
      "Found 480 images belonging to 6 classes.\n"
     ]
    }
   ],
   "source": [
    "train_datagen = ImageDataGenerator(\n",
    "        rescale = 1./255,\n",
    "        rotation_range = 40,\n",
    "        width_shift_range=0.2,\n",
    "        height_shift_range=0.2,\n",
    "        shear_range =0.2,\n",
    "        zoom_range = 0.2,\n",
    "        horizontal_flip=True,)\n",
    "\n",
    "test_datagen = ImageDataGenerator(rescale=1./255)\n",
    "\n",
    "train_generator = train_datagen.flow_from_directory(\n",
    "        train_dir,\n",
    "        target_size=(150,150),\n",
    "        batch_size=4,\n",
    "        class_mode =\"categorical\")\n",
    "\n",
    "validation_generator = test_datagen.flow_from_directory(\n",
    "        validation_dir,\n",
    "        target_size=(150,150),\n",
    "        batch_size=4,\n",
    "        class_mode ='categorical')"
   ]
  },
  {
   "cell_type": "code",
   "execution_count": 18,
   "id": "47b47490",
   "metadata": {},
   "outputs": [],
   "source": [
    "model = models.Sequential()\n",
    "\n",
    "model.add(layers.Conv2D(32, (3,3),activation = 'relu', input_shape=(150,150,3)))\n",
    "model.add(layers.MaxPooling2D((2,2)))\n",
    "\n",
    "model.add(layers.Conv2D(64, (3,3),activation = 'relu', ))\n",
    "model.add(layers.MaxPooling2D((2,2)))\n",
    "\n",
    "model.add(layers.Conv2D(128, (3,3),activation = 'relu', ))\n",
    "model.add(layers.MaxPooling2D((2,2)))\n",
    "\n",
    "model.add(layers.Conv2D(128, (3,3),activation = 'relu', ))\n",
    "model.add(layers.MaxPooling2D((2,2)))\n",
    "\n",
    "model.add(layers.Flatten())\n",
    "model.add(layers.Dropout(0.5))\n",
    "\n",
    "model.add(layers.Dense(512, activation = \"relu\"))\n",
    "\n",
    "model.add(layers.Dense(6, activation = 'softmax'))\n",
    "\n",
    "model.compile(loss='categorical_crossentropy',optimizer=optimizers.RMSprop(lr=1e-4),metrics=['acc'])\n"
   ]
  },
  {
   "cell_type": "code",
   "execution_count": 21,
   "id": "94a88e1b",
   "metadata": {},
   "outputs": [
    {
     "name": "stdout",
     "output_type": "stream",
     "text": [
      "Epoch 1/40\n",
      "120/120 [==============================] - 18s 151ms/step - loss: 1.6798 - acc: 0.3250 - val_loss: 1.6635 - val_acc: 0.2625\n",
      "Epoch 2/40\n",
      "120/120 [==============================] - 19s 158ms/step - loss: 1.6535 - acc: 0.3375 - val_loss: 1.7172 - val_acc: 0.2875\n",
      "Epoch 3/40\n",
      "120/120 [==============================] - 18s 149ms/step - loss: 1.6671 - acc: 0.2979 - val_loss: 1.6477 - val_acc: 0.3000\n",
      "Epoch 4/40\n",
      "120/120 [==============================] - 20s 163ms/step - loss: 1.6274 - acc: 0.3146 - val_loss: 1.6587 - val_acc: 0.2708\n",
      "Epoch 5/40\n",
      "120/120 [==============================] - 19s 156ms/step - loss: 1.6100 - acc: 0.3729 - val_loss: 1.6733 - val_acc: 0.3125\n",
      "Epoch 6/40\n",
      "120/120 [==============================] - 20s 163ms/step - loss: 1.5956 - acc: 0.3521 - val_loss: 1.6255 - val_acc: 0.3417\n",
      "Epoch 7/40\n",
      "120/120 [==============================] - 19s 157ms/step - loss: 1.6079 - acc: 0.3500 - val_loss: 1.6296 - val_acc: 0.3042\n",
      "Epoch 8/40\n",
      "120/120 [==============================] - 20s 164ms/step - loss: 1.6328 - acc: 0.3167 - val_loss: 1.6771 - val_acc: 0.2792\n",
      "Epoch 9/40\n",
      "120/120 [==============================] - 19s 160ms/step - loss: 1.6239 - acc: 0.3479 - val_loss: 1.7748 - val_acc: 0.2833\n",
      "Epoch 10/40\n",
      "120/120 [==============================] - 20s 163ms/step - loss: 1.5894 - acc: 0.3896 - val_loss: 1.6382 - val_acc: 0.3167\n",
      "Epoch 11/40\n",
      "120/120 [==============================] - 19s 162ms/step - loss: 1.6028 - acc: 0.3521 - val_loss: 1.6880 - val_acc: 0.3250\n",
      "Epoch 12/40\n",
      "120/120 [==============================] - 18s 153ms/step - loss: 1.5433 - acc: 0.3708 - val_loss: 1.6005 - val_acc: 0.3125\n",
      "Epoch 13/40\n",
      "120/120 [==============================] - 20s 162ms/step - loss: 1.5537 - acc: 0.3938 - val_loss: 1.5967 - val_acc: 0.3458\n",
      "Epoch 14/40\n",
      "120/120 [==============================] - 19s 159ms/step - loss: 1.5421 - acc: 0.3792 - val_loss: 1.5984 - val_acc: 0.3208\n",
      "Epoch 15/40\n",
      "120/120 [==============================] - 20s 164ms/step - loss: 1.5525 - acc: 0.3750 - val_loss: 1.6653 - val_acc: 0.3583\n",
      "Epoch 16/40\n",
      "120/120 [==============================] - 19s 159ms/step - loss: 1.5560 - acc: 0.3688 - val_loss: 1.5274 - val_acc: 0.3750\n",
      "Epoch 17/40\n",
      "120/120 [==============================] - 19s 161ms/step - loss: 1.5288 - acc: 0.3958 - val_loss: 1.6657 - val_acc: 0.3542\n",
      "Epoch 18/40\n",
      "120/120 [==============================] - 18s 153ms/step - loss: 1.5417 - acc: 0.3771 - val_loss: 1.5522 - val_acc: 0.3625\n",
      "Epoch 19/40\n",
      "120/120 [==============================] - 20s 167ms/step - loss: 1.5181 - acc: 0.3771 - val_loss: 1.6583 - val_acc: 0.3083\n",
      "Epoch 20/40\n",
      "120/120 [==============================] - 19s 154ms/step - loss: 1.5319 - acc: 0.3875 - val_loss: 1.5781 - val_acc: 0.3583\n",
      "Epoch 21/40\n",
      "120/120 [==============================] - 19s 160ms/step - loss: 1.5159 - acc: 0.4104 - val_loss: 1.6238 - val_acc: 0.3625\n",
      "Epoch 22/40\n",
      "120/120 [==============================] - 18s 151ms/step - loss: 1.5412 - acc: 0.3792 - val_loss: 1.5092 - val_acc: 0.4000\n",
      "Epoch 23/40\n",
      "120/120 [==============================] - 20s 166ms/step - loss: 1.4941 - acc: 0.4167 - val_loss: 1.5724 - val_acc: 0.3583\n",
      "Epoch 24/40\n",
      "120/120 [==============================] - 20s 164ms/step - loss: 1.5150 - acc: 0.3938 - val_loss: 1.6439 - val_acc: 0.3250\n",
      "Epoch 25/40\n",
      "120/120 [==============================] - 19s 162ms/step - loss: 1.5382 - acc: 0.3917 - val_loss: 1.6648 - val_acc: 0.3417\n",
      "Epoch 26/40\n",
      "120/120 [==============================] - 21s 172ms/step - loss: 1.5096 - acc: 0.3854 - val_loss: 1.8102 - val_acc: 0.2917\n",
      "Epoch 27/40\n",
      "120/120 [==============================] - 20s 168ms/step - loss: 1.4758 - acc: 0.4146 - val_loss: 1.8326 - val_acc: 0.2708\n",
      "Epoch 28/40\n",
      "120/120 [==============================] - 19s 161ms/step - loss: 1.4773 - acc: 0.4125 - val_loss: 1.5757 - val_acc: 0.3000\n",
      "Epoch 29/40\n",
      "120/120 [==============================] - 20s 163ms/step - loss: 1.4965 - acc: 0.4062 - val_loss: 1.5537 - val_acc: 0.3792\n",
      "Epoch 30/40\n",
      "120/120 [==============================] - 18s 153ms/step - loss: 1.4034 - acc: 0.4583 - val_loss: 1.8391 - val_acc: 0.3208\n",
      "Epoch 31/40\n",
      "120/120 [==============================] - 19s 159ms/step - loss: 1.4446 - acc: 0.4396 - val_loss: 1.8733 - val_acc: 0.3250\n",
      "Epoch 32/40\n",
      "120/120 [==============================] - 20s 166ms/step - loss: 1.4677 - acc: 0.4375 - val_loss: 1.6986 - val_acc: 0.3500\n",
      "Epoch 33/40\n",
      "120/120 [==============================] - 18s 149ms/step - loss: 1.4327 - acc: 0.4292 - val_loss: 1.6018 - val_acc: 0.3500\n",
      "Epoch 34/40\n",
      "120/120 [==============================] - 21s 173ms/step - loss: 1.4793 - acc: 0.4125 - val_loss: 1.6435 - val_acc: 0.3667\n",
      "Epoch 35/40\n",
      "120/120 [==============================] - 19s 162ms/step - loss: 1.4228 - acc: 0.4333 - val_loss: 1.6181 - val_acc: 0.3542\n",
      "Epoch 36/40\n",
      "120/120 [==============================] - 19s 158ms/step - loss: 1.4224 - acc: 0.4667 - val_loss: 1.6522 - val_acc: 0.3375\n",
      "Epoch 37/40\n",
      "120/120 [==============================] - 19s 154ms/step - loss: 1.4581 - acc: 0.4396 - val_loss: 1.6881 - val_acc: 0.3708\n",
      "Epoch 38/40\n",
      "120/120 [==============================] - 18s 152ms/step - loss: 1.4052 - acc: 0.4812 - val_loss: 1.6982 - val_acc: 0.3208\n",
      "Epoch 39/40\n",
      "120/120 [==============================] - 18s 153ms/step - loss: 1.4645 - acc: 0.4208 - val_loss: 1.8812 - val_acc: 0.3125\n",
      "Epoch 40/40\n",
      "120/120 [==============================] - 20s 167ms/step - loss: 1.4044 - acc: 0.4583 - val_loss: 1.6522 - val_acc: 0.3833\n"
     ]
    }
   ],
   "source": [
    "history = model.fit_generator(\n",
    "        train_generator,\n",
    "        steps_per_epoch=120,\n",
    "        epochs = 40,\n",
    "        validation_data = validation_generator,\n",
    "        validation_steps = 240\n",
    ")"
   ]
  },
  {
   "cell_type": "code",
   "execution_count": 22,
   "id": "1ef5192b",
   "metadata": {},
   "outputs": [],
   "source": [
    "model.save(\"Assignment_cnn.h5\")"
   ]
  },
  {
   "cell_type": "code",
   "execution_count": 23,
   "id": "683f605e",
   "metadata": {},
   "outputs": [
    {
     "ename": "NameError",
     "evalue": "name 'plt' is not defined",
     "output_type": "error",
     "traceback": [
      "\u001b[1;31m---------------------------------------------------------------------------\u001b[0m",
      "\u001b[1;31mNameError\u001b[0m                                 Traceback (most recent call last)",
      "\u001b[1;32m<ipython-input-23-0cf6cb81746e>\u001b[0m in \u001b[0;36m<module>\u001b[1;34m\u001b[0m\n\u001b[0;32m      1\u001b[0m \u001b[0mpd\u001b[0m\u001b[1;33m.\u001b[0m\u001b[0mDataFrame\u001b[0m\u001b[1;33m(\u001b[0m\u001b[0mhistory\u001b[0m\u001b[1;33m.\u001b[0m\u001b[0mhistory\u001b[0m\u001b[1;33m)\u001b[0m\u001b[1;33m.\u001b[0m\u001b[0mplot\u001b[0m\u001b[1;33m(\u001b[0m\u001b[0mfigsize\u001b[0m\u001b[1;33m=\u001b[0m\u001b[1;33m(\u001b[0m\u001b[1;36m8\u001b[0m\u001b[1;33m,\u001b[0m\u001b[1;36m5\u001b[0m\u001b[1;33m)\u001b[0m\u001b[1;33m)\u001b[0m\u001b[1;33m\u001b[0m\u001b[1;33m\u001b[0m\u001b[0m\n\u001b[1;32m----> 2\u001b[1;33m \u001b[0mplt\u001b[0m\u001b[1;33m.\u001b[0m\u001b[0mgrid\u001b[0m\u001b[1;33m(\u001b[0m\u001b[1;32mTrue\u001b[0m\u001b[1;33m)\u001b[0m\u001b[1;33m\u001b[0m\u001b[1;33m\u001b[0m\u001b[0m\n\u001b[0m\u001b[0;32m      3\u001b[0m \u001b[0mplt\u001b[0m\u001b[1;33m.\u001b[0m\u001b[0mgca\u001b[0m\u001b[1;33m(\u001b[0m\u001b[1;33m)\u001b[0m\u001b[1;33m.\u001b[0m\u001b[0mset_ylim\u001b[0m\u001b[1;33m(\u001b[0m\u001b[1;36m0\u001b[0m\u001b[1;33m,\u001b[0m\u001b[1;36m1\u001b[0m\u001b[1;33m)\u001b[0m\u001b[1;33m\u001b[0m\u001b[1;33m\u001b[0m\u001b[0m\n\u001b[0;32m      4\u001b[0m \u001b[0mplt\u001b[0m\u001b[1;33m.\u001b[0m\u001b[0mshow\u001b[0m\u001b[1;33m(\u001b[0m\u001b[1;33m)\u001b[0m\u001b[1;33m\u001b[0m\u001b[1;33m\u001b[0m\u001b[0m\n",
      "\u001b[1;31mNameError\u001b[0m: name 'plt' is not defined"
     ]
    },
    {
     "data": {
      "image/png": "[encoded data removed]",
      "text/plain": [
       "<Figure size 576x360 with 1 Axes>"
      ]
     },
     "metadata": {
      "needs_background": "light"
     },
     "output_type": "display_data"
    }
   ],
   "source": [
    "pd.DataFrame(history.history).plot(figsize=(8,5))\n",
    "plt.grid(True)\n",
    "plt.gca().set_ylim(0,1)\n",
    "plt.show()"
   ]
  },
  {
   "cell_type": "code",
   "execution_count": 27,
   "id": "5c9c3a2e",
   "metadata": {},
   "outputs": [
    {
     "name": "stdout",
     "output_type": "stream",
     "text": [
      "Downloading data from https://storage.googleapis.com/tensorflow/keras-applications/vgg16/vgg16_weights_tf_dim_ordering_tf_kernels_notop.h5\n",
      "58892288/58889256 [==============================] - 18s 0us/step\n",
      "58900480/58889256 [==============================] - 18s 0us/step\n"
     ]
    }
   ],
   "source": [
    "from tensorflow.keras.applications import VGG16\n",
    "\n",
    "conv_base = VGG16(weights='imagenet', include_top= False, input_shape = (150,150,3))"
   ]
  },
  {
   "cell_type": "code",
   "execution_count": 28,
   "id": "afd5247c",
   "metadata": {},
   "outputs": [
    {
     "name": "stdout",
     "output_type": "stream",
     "text": [
      "Model: \"vgg16\"\n",
      "_________________________________________________________________\n",
      "Layer (type)                 Output Shape              Param #   \n",
      "=================================================================\n",
      "input_4 (InputLayer)         [(None, 150, 150, 3)]     0         \n",
      "_________________________________________________________________\n",
      "block1_conv1 (Conv2D)        (None, 150, 150, 64)      1792      \n",
      "_________________________________________________________________\n",
      "block1_conv2 (Conv2D)        (None, 150, 150, 64)      36928     \n",
      "_________________________________________________________________\n",
      "block1_pool (MaxPooling2D)   (None, 75, 75, 64)        0         \n",
      "_________________________________________________________________\n",
      "block2_conv1 (Conv2D)        (None, 75, 75, 128)       73856     \n",
      "_________________________________________________________________\n",
      "block2_conv2 (Conv2D)        (None, 75, 75, 128)       147584    \n",
      "_________________________________________________________________\n",
      "block2_pool (MaxPooling2D)   (None, 37, 37, 128)       0         \n",
      "_________________________________________________________________\n",
      "block3_conv1 (Conv2D)        (None, 37, 37, 256)       295168    \n",
      "_________________________________________________________________\n",
      "block3_conv2 (Conv2D)        (None, 37, 37, 256)       590080    \n",
      "_________________________________________________________________\n",
      "block3_conv3 (Conv2D)        (None, 37, 37, 256)       590080    \n",
      "_________________________________________________________________\n",
      "block3_pool (MaxPooling2D)   (None, 18, 18, 256)       0         \n",
      "_________________________________________________________________\n",
      "block4_conv1 (Conv2D)        (None, 18, 18, 512)       1180160   \n",
      "_________________________________________________________________\n",
      "block4_conv2 (Conv2D)        (None, 18, 18, 512)       2359808   \n",
      "_________________________________________________________________\n",
      "block4_conv3 (Conv2D)        (None, 18, 18, 512)       2359808   \n",
      "_________________________________________________________________\n",
      "block4_pool (MaxPooling2D)   (None, 9, 9, 512)         0         \n",
      "_________________________________________________________________\n",
      "block5_conv1 (Conv2D)        (None, 9, 9, 512)         2359808   \n",
      "_________________________________________________________________\n",
      "block5_conv2 (Conv2D)        (None, 9, 9, 512)         2359808   \n",
      "_________________________________________________________________\n",
      "block5_conv3 (Conv2D)        (None, 9, 9, 512)         2359808   \n",
      "_________________________________________________________________\n",
      "block5_pool (MaxPooling2D)   (None, 4, 4, 512)         0         \n",
      "=================================================================\n",
      "Total params: 14,714,688\n",
      "Trainable params: 14,714,688\n",
      "Non-trainable params: 0\n",
      "_________________________________________________________________\n"
     ]
    }
   ],
   "source": [
    "conv_base.summary()"
   ]
  },
  {
   "cell_type": "code",
   "execution_count": 31,
   "id": "dea9e661",
   "metadata": {},
   "outputs": [],
   "source": [
    "model = models.Sequential()\n",
    "model.add(conv_base)\n",
    "model.add(layers.Flatten())\n",
    "model.add(layers.Dense(256, activation='relu'))\n",
    "model.add(layers.Dense(6, activation='softmax'))\n"
   ]
  },
  {
   "cell_type": "code",
   "execution_count": 33,
   "id": "62ab24e1",
   "metadata": {},
   "outputs": [
    {
     "name": "stdout",
     "output_type": "stream",
     "text": [
      "Model: \"sequential_4\"\n",
      "_________________________________________________________________\n",
      "Layer (type)                 Output Shape              Param #   \n",
      "=================================================================\n",
      "vgg16 (Functional)           (None, 4, 4, 512)         14714688  \n",
      "_________________________________________________________________\n",
      "flatten_3 (Flatten)          (None, 8192)              0         \n",
      "_________________________________________________________________\n",
      "dense_6 (Dense)              (None, 256)               2097408   \n",
      "_________________________________________________________________\n",
      "dense_7 (Dense)              (None, 6)                 1542      \n",
      "=================================================================\n",
      "Total params: 16,813,638\n",
      "Trainable params: 16,813,638\n",
      "Non-trainable params: 0\n",
      "_________________________________________________________________\n"
     ]
    }
   ],
   "source": [
    "model.summary()"
   ]
  },
  {
   "cell_type": "code",
   "execution_count": 34,
   "id": "19de4d34",
   "metadata": {},
   "outputs": [
    {
     "name": "stderr",
     "output_type": "stream",
     "text": [
      "C:\\Users\\DEVU\\anaconda3\\lib\\site-packages\\keras\\optimizer_v2\\optimizer_v2.py:355: UserWarning: The `lr` argument is deprecated, use `learning_rate` instead.\n",
      "  warnings.warn(\n"
     ]
    }
   ],
   "source": [
    "model.compile(loss='categorical_crossentropy',optimizer=optimizers.RMSprop(lr=2e-5),metrics=['acc'])\n"
   ]
  },
  {
   "cell_type": "code",
   "execution_count": 38,
   "id": "ea5edc5c",
   "metadata": {},
   "outputs": [],
   "source": [
    "checkpoint_cb = keras.callbacks.ModelCheckpoint(\"CNN_Project_Model-(epoch:02d).h5\",save_best_only=True)"
   ]
  },
  {
   "cell_type": "code",
   "execution_count": 46,
   "id": "2f312581",
   "metadata": {},
   "outputs": [
    {
     "name": "stdout",
     "output_type": "stream",
     "text": [
      "Epoch 1/10\n",
      "20/20 [==============================] - 35s 2s/step - loss: 1.3390 - acc: 0.5250 - val_loss: 1.5244 - val_acc: 0.4500\n",
      "Epoch 2/10\n",
      "20/20 [==============================] - 34s 2s/step - loss: 1.2966 - acc: 0.5250 - val_loss: 1.5665 - val_acc: 0.4313\n",
      "Epoch 3/10\n",
      "20/20 [==============================] - 34s 2s/step - loss: 1.5013 - acc: 0.4000 - val_loss: 1.3958 - val_acc: 0.4250\n",
      "Epoch 4/10\n",
      "20/20 [==============================] - 34s 2s/step - loss: 1.3514 - acc: 0.5375 - val_loss: 1.2866 - val_acc: 0.5250\n",
      "Epoch 5/10\n",
      "20/20 [==============================] - 33s 2s/step - loss: 1.2992 - acc: 0.4625 - val_loss: 1.4325 - val_acc: 0.4437\n",
      "Epoch 6/10\n",
      "20/20 [==============================] - 34s 2s/step - loss: 1.2946 - acc: 0.5125 - val_loss: 1.5059 - val_acc: 0.4313\n",
      "Epoch 7/10\n",
      "20/20 [==============================] - 33s 2s/step - loss: 1.3314 - acc: 0.5125 - val_loss: 1.3871 - val_acc: 0.4500\n",
      "Epoch 8/10\n",
      "20/20 [==============================] - 33s 2s/step - loss: 1.3497 - acc: 0.4625 - val_loss: 1.3988 - val_acc: 0.4625\n",
      "Epoch 9/10\n",
      "20/20 [==============================] - 33s 2s/step - loss: 1.2054 - acc: 0.4750 - val_loss: 1.3623 - val_acc: 0.4688\n",
      "Epoch 10/10\n",
      "20/20 [==============================] - 34s 2s/step - loss: 1.2960 - acc: 0.5000 - val_loss: 1.7272 - val_acc: 0.4187\n"
     ]
    }
   ],
   "source": [
    "history = model.fit_generator(\n",
    "        train_generator,\n",
    "        steps_per_epoch=20,\n",
    "        epochs = 10,\n",
    "        validation_data = validation_generator,\n",
    "        validation_steps = 40,\n",
    "        callbacks = [checkpoint_cb])"
   ]
  },
  {
   "cell_type": "code",
   "execution_count": 62,
   "id": "f61cbf7f",
   "metadata": {},
   "outputs": [
    {
     "name": "stdout",
     "output_type": "stream",
     "text": [
      "Found 0 images belonging to 0 classes.\n"
     ]
    }
   ],
   "source": [
    "test_generator = test_datage.flow_from_directory(\n",
    "        test_dir,\n",
    "        target_size=(150,150),\n",
    "        batch_size=4)"
   ]
  },
  {
   "cell_type": "code",
   "execution_count": 53,
   "id": "92463062",
   "metadata": {},
   "outputs": [
    {
     "name": "stderr",
     "output_type": "stream",
     "text": [
      "C:\\Users\\DEVU\\anaconda3\\lib\\site-packages\\keras\\engine\\training.py:2006: UserWarning: `Model.evaluate_generator` is deprecated and will be removed in a future version. Please use `Model.evaluate`, which supports generators.\n",
      "  warnings.warn('`Model.evaluate_generator` is deprecated and '\n"
     ]
    },
    {
     "ename": "ValueError",
     "evalue": "Asked to retrieve element 0, but the Sequence has length 0",
     "output_type": "error",
     "traceback": [
      "\u001b[1;31m---------------------------------------------------------------------------\u001b[0m",
      "\u001b[1;31mValueError\u001b[0m                                Traceback (most recent call last)",
      "\u001b[1;32m<ipython-input-53-df6f19de3b55>\u001b[0m in \u001b[0;36m<module>\u001b[1;34m\u001b[0m\n\u001b[1;32m----> 1\u001b[1;33m \u001b[0mmodel\u001b[0m\u001b[1;33m.\u001b[0m\u001b[0mevaluate_generator\u001b[0m\u001b[1;33m(\u001b[0m\u001b[0mtest_generator\u001b[0m\u001b[1;33m,\u001b[0m\u001b[0msteps\u001b[0m\u001b[1;33m=\u001b[0m\u001b[1;36m120\u001b[0m\u001b[1;33m)\u001b[0m\u001b[1;33m\u001b[0m\u001b[1;33m\u001b[0m\u001b[0m\n\u001b[0m",
      "\u001b[1;32m~\\anaconda3\\lib\\site-packages\\keras\\engine\\training.py\u001b[0m in \u001b[0;36mevaluate_generator\u001b[1;34m(self, generator, steps, callbacks, max_queue_size, workers, use_multiprocessing, verbose)\u001b[0m\n\u001b[0;32m   2009\u001b[0m     \u001b[0mself\u001b[0m\u001b[1;33m.\u001b[0m\u001b[0m_check_call_args\u001b[0m\u001b[1;33m(\u001b[0m\u001b[1;34m'evaluate_generator'\u001b[0m\u001b[1;33m)\u001b[0m\u001b[1;33m\u001b[0m\u001b[1;33m\u001b[0m\u001b[0m\n\u001b[0;32m   2010\u001b[0m \u001b[1;33m\u001b[0m\u001b[0m\n\u001b[1;32m-> 2011\u001b[1;33m     return self.evaluate(\n\u001b[0m\u001b[0;32m   2012\u001b[0m         \u001b[0mgenerator\u001b[0m\u001b[1;33m,\u001b[0m\u001b[1;33m\u001b[0m\u001b[1;33m\u001b[0m\u001b[0m\n\u001b[0;32m   2013\u001b[0m         \u001b[0msteps\u001b[0m\u001b[1;33m=\u001b[0m\u001b[0msteps\u001b[0m\u001b[1;33m,\u001b[0m\u001b[1;33m\u001b[0m\u001b[1;33m\u001b[0m\u001b[0m\n",
      "\u001b[1;32m~\\anaconda3\\lib\\site-packages\\keras\\engine\\training.py\u001b[0m in \u001b[0;36mevaluate\u001b[1;34m(self, x, y, batch_size, verbose, sample_weight, steps, callbacks, max_queue_size, workers, use_multiprocessing, return_dict, **kwargs)\u001b[0m\n\u001b[0;32m   1464\u001b[0m       \u001b[1;32melse\u001b[0m\u001b[1;33m:\u001b[0m\u001b[1;33m\u001b[0m\u001b[1;33m\u001b[0m\u001b[0m\n\u001b[0;32m   1465\u001b[0m         \u001b[1;31m# Creates a `tf.data.Dataset` and handles batch and epoch iteration.\u001b[0m\u001b[1;33m\u001b[0m\u001b[1;33m\u001b[0m\u001b[1;33m\u001b[0m\u001b[0m\n\u001b[1;32m-> 1466\u001b[1;33m         data_handler = data_adapter.get_data_handler(\n\u001b[0m\u001b[0;32m   1467\u001b[0m             \u001b[0mx\u001b[0m\u001b[1;33m=\u001b[0m\u001b[0mx\u001b[0m\u001b[1;33m,\u001b[0m\u001b[1;33m\u001b[0m\u001b[1;33m\u001b[0m\u001b[0m\n\u001b[0;32m   1468\u001b[0m             \u001b[0my\u001b[0m\u001b[1;33m=\u001b[0m\u001b[0my\u001b[0m\u001b[1;33m,\u001b[0m\u001b[1;33m\u001b[0m\u001b[1;33m\u001b[0m\u001b[0m\n",
      "\u001b[1;32m~\\anaconda3\\lib\\site-packages\\keras\\engine\\data_adapter.py\u001b[0m in \u001b[0;36mget_data_handler\u001b[1;34m(*args, **kwargs)\u001b[0m\n\u001b[0;32m   1381\u001b[0m   \u001b[1;32mif\u001b[0m \u001b[0mgetattr\u001b[0m\u001b[1;33m(\u001b[0m\u001b[0mkwargs\u001b[0m\u001b[1;33m[\u001b[0m\u001b[1;34m\"model\"\u001b[0m\u001b[1;33m]\u001b[0m\u001b[1;33m,\u001b[0m \u001b[1;34m\"_cluster_coordinator\"\u001b[0m\u001b[1;33m,\u001b[0m \u001b[1;32mNone\u001b[0m\u001b[1;33m)\u001b[0m\u001b[1;33m:\u001b[0m\u001b[1;33m\u001b[0m\u001b[1;33m\u001b[0m\u001b[0m\n\u001b[0;32m   1382\u001b[0m     \u001b[1;32mreturn\u001b[0m \u001b[0m_ClusterCoordinatorDataHandler\u001b[0m\u001b[1;33m(\u001b[0m\u001b[1;33m*\u001b[0m\u001b[0margs\u001b[0m\u001b[1;33m,\u001b[0m \u001b[1;33m**\u001b[0m\u001b[0mkwargs\u001b[0m\u001b[1;33m)\u001b[0m\u001b[1;33m\u001b[0m\u001b[1;33m\u001b[0m\u001b[0m\n\u001b[1;32m-> 1383\u001b[1;33m   \u001b[1;32mreturn\u001b[0m \u001b[0mDataHandler\u001b[0m\u001b[1;33m(\u001b[0m\u001b[1;33m*\u001b[0m\u001b[0margs\u001b[0m\u001b[1;33m,\u001b[0m \u001b[1;33m**\u001b[0m\u001b[0mkwargs\u001b[0m\u001b[1;33m)\u001b[0m\u001b[1;33m\u001b[0m\u001b[1;33m\u001b[0m\u001b[0m\n\u001b[0m\u001b[0;32m   1384\u001b[0m \u001b[1;33m\u001b[0m\u001b[0m\n\u001b[0;32m   1385\u001b[0m \u001b[1;33m\u001b[0m\u001b[0m\n",
      "\u001b[1;32m~\\anaconda3\\lib\\site-packages\\keras\\engine\\data_adapter.py\u001b[0m in \u001b[0;36m__init__\u001b[1;34m(self, x, y, sample_weight, batch_size, steps_per_epoch, initial_epoch, epochs, shuffle, class_weight, max_queue_size, workers, use_multiprocessing, model, steps_per_execution, distribute)\u001b[0m\n\u001b[0;32m   1136\u001b[0m \u001b[1;33m\u001b[0m\u001b[0m\n\u001b[0;32m   1137\u001b[0m     \u001b[0madapter_cls\u001b[0m \u001b[1;33m=\u001b[0m \u001b[0mselect_data_adapter\u001b[0m\u001b[1;33m(\u001b[0m\u001b[0mx\u001b[0m\u001b[1;33m,\u001b[0m \u001b[0my\u001b[0m\u001b[1;33m)\u001b[0m\u001b[1;33m\u001b[0m\u001b[1;33m\u001b[0m\u001b[0m\n\u001b[1;32m-> 1138\u001b[1;33m     self._adapter = adapter_cls(\n\u001b[0m\u001b[0;32m   1139\u001b[0m         \u001b[0mx\u001b[0m\u001b[1;33m,\u001b[0m\u001b[1;33m\u001b[0m\u001b[1;33m\u001b[0m\u001b[0m\n\u001b[0;32m   1140\u001b[0m         \u001b[0my\u001b[0m\u001b[1;33m,\u001b[0m\u001b[1;33m\u001b[0m\u001b[1;33m\u001b[0m\u001b[0m\n",
      "\u001b[1;32m~\\anaconda3\\lib\\site-packages\\keras\\engine\\data_adapter.py\u001b[0m in \u001b[0;36m__init__\u001b[1;34m(self, x, y, sample_weights, shuffle, workers, use_multiprocessing, max_queue_size, model, **kwargs)\u001b[0m\n\u001b[0;32m    915\u001b[0m     \u001b[0mself\u001b[0m\u001b[1;33m.\u001b[0m\u001b[0m_keras_sequence\u001b[0m \u001b[1;33m=\u001b[0m \u001b[0mx\u001b[0m\u001b[1;33m\u001b[0m\u001b[1;33m\u001b[0m\u001b[0m\n\u001b[0;32m    916\u001b[0m     \u001b[0mself\u001b[0m\u001b[1;33m.\u001b[0m\u001b[0m_enqueuer\u001b[0m \u001b[1;33m=\u001b[0m \u001b[1;32mNone\u001b[0m\u001b[1;33m\u001b[0m\u001b[1;33m\u001b[0m\u001b[0m\n\u001b[1;32m--> 917\u001b[1;33m     super(KerasSequenceAdapter, self).__init__(\n\u001b[0m\u001b[0;32m    918\u001b[0m         \u001b[0mx\u001b[0m\u001b[1;33m,\u001b[0m\u001b[1;33m\u001b[0m\u001b[1;33m\u001b[0m\u001b[0m\n\u001b[0;32m    919\u001b[0m         \u001b[0mshuffle\u001b[0m\u001b[1;33m=\u001b[0m\u001b[1;32mFalse\u001b[0m\u001b[1;33m,\u001b[0m  \u001b[1;31m# Shuffle is handed in the _make_callable override.\u001b[0m\u001b[1;33m\u001b[0m\u001b[1;33m\u001b[0m\u001b[0m\n",
      "\u001b[1;32m~\\anaconda3\\lib\\site-packages\\keras\\engine\\data_adapter.py\u001b[0m in \u001b[0;36m__init__\u001b[1;34m(self, x, y, sample_weights, workers, use_multiprocessing, max_queue_size, model, **kwargs)\u001b[0m\n\u001b[0;32m    792\u001b[0m     \u001b[1;31m# Since we have to know the dtype of the python generator when we build the\u001b[0m\u001b[1;33m\u001b[0m\u001b[1;33m\u001b[0m\u001b[1;33m\u001b[0m\u001b[0m\n\u001b[0;32m    793\u001b[0m     \u001b[1;31m# dataset, we have to look at a batch to infer the structure.\u001b[0m\u001b[1;33m\u001b[0m\u001b[1;33m\u001b[0m\u001b[1;33m\u001b[0m\u001b[0m\n\u001b[1;32m--> 794\u001b[1;33m     \u001b[0mpeek\u001b[0m\u001b[1;33m,\u001b[0m \u001b[0mx\u001b[0m \u001b[1;33m=\u001b[0m \u001b[0mself\u001b[0m\u001b[1;33m.\u001b[0m\u001b[0m_peek_and_restore\u001b[0m\u001b[1;33m(\u001b[0m\u001b[0mx\u001b[0m\u001b[1;33m)\u001b[0m\u001b[1;33m\u001b[0m\u001b[1;33m\u001b[0m\u001b[0m\n\u001b[0m\u001b[0;32m    795\u001b[0m     \u001b[0mpeek\u001b[0m \u001b[1;33m=\u001b[0m \u001b[0mself\u001b[0m\u001b[1;33m.\u001b[0m\u001b[0m_standardize_batch\u001b[0m\u001b[1;33m(\u001b[0m\u001b[0mpeek\u001b[0m\u001b[1;33m)\u001b[0m\u001b[1;33m\u001b[0m\u001b[1;33m\u001b[0m\u001b[0m\n\u001b[0;32m    796\u001b[0m     \u001b[0mpeek\u001b[0m \u001b[1;33m=\u001b[0m \u001b[0m_process_tensorlike\u001b[0m\u001b[1;33m(\u001b[0m\u001b[0mpeek\u001b[0m\u001b[1;33m)\u001b[0m\u001b[1;33m\u001b[0m\u001b[1;33m\u001b[0m\u001b[0m\n",
      "\u001b[1;32m~\\anaconda3\\lib\\site-packages\\keras\\engine\\data_adapter.py\u001b[0m in \u001b[0;36m_peek_and_restore\u001b[1;34m(x)\u001b[0m\n\u001b[0;32m    926\u001b[0m   \u001b[1;33m@\u001b[0m\u001b[0mstaticmethod\u001b[0m\u001b[1;33m\u001b[0m\u001b[1;33m\u001b[0m\u001b[0m\n\u001b[0;32m    927\u001b[0m   \u001b[1;32mdef\u001b[0m \u001b[0m_peek_and_restore\u001b[0m\u001b[1;33m(\u001b[0m\u001b[0mx\u001b[0m\u001b[1;33m)\u001b[0m\u001b[1;33m:\u001b[0m\u001b[1;33m\u001b[0m\u001b[1;33m\u001b[0m\u001b[0m\n\u001b[1;32m--> 928\u001b[1;33m     \u001b[1;32mreturn\u001b[0m \u001b[0mx\u001b[0m\u001b[1;33m[\u001b[0m\u001b[1;36m0\u001b[0m\u001b[1;33m]\u001b[0m\u001b[1;33m,\u001b[0m \u001b[0mx\u001b[0m\u001b[1;33m\u001b[0m\u001b[1;33m\u001b[0m\u001b[0m\n\u001b[0m\u001b[0;32m    929\u001b[0m \u001b[1;33m\u001b[0m\u001b[0m\n\u001b[0;32m    930\u001b[0m   def _handle_multiprocessing(self, x, workers, use_multiprocessing,\n",
      "\u001b[1;32m~\\anaconda3\\lib\\site-packages\\keras_preprocessing\\image\\iterator.py\u001b[0m in \u001b[0;36m__getitem__\u001b[1;34m(self, idx)\u001b[0m\n\u001b[0;32m     52\u001b[0m     \u001b[1;32mdef\u001b[0m \u001b[0m__getitem__\u001b[0m\u001b[1;33m(\u001b[0m\u001b[0mself\u001b[0m\u001b[1;33m,\u001b[0m \u001b[0midx\u001b[0m\u001b[1;33m)\u001b[0m\u001b[1;33m:\u001b[0m\u001b[1;33m\u001b[0m\u001b[1;33m\u001b[0m\u001b[0m\n\u001b[0;32m     53\u001b[0m         \u001b[1;32mif\u001b[0m \u001b[0midx\u001b[0m \u001b[1;33m>=\u001b[0m \u001b[0mlen\u001b[0m\u001b[1;33m(\u001b[0m\u001b[0mself\u001b[0m\u001b[1;33m)\u001b[0m\u001b[1;33m:\u001b[0m\u001b[1;33m\u001b[0m\u001b[1;33m\u001b[0m\u001b[0m\n\u001b[1;32m---> 54\u001b[1;33m             raise ValueError('Asked to retrieve element {idx}, '\n\u001b[0m\u001b[0;32m     55\u001b[0m                              \u001b[1;34m'but the Sequence '\u001b[0m\u001b[1;33m\u001b[0m\u001b[1;33m\u001b[0m\u001b[0m\n\u001b[0;32m     56\u001b[0m                              'has length {length}'.format(idx=idx,\n",
      "\u001b[1;31mValueError\u001b[0m: Asked to retrieve element 0, but the Sequence has length 0"
     ]
    }
   ],
   "source": [
    "model.evaluate_generator(test_generator,steps=120)"
   ]
  }
 ],
 "metadata": {
  "kernelspec": {
   "display_name": "Python 3",
   "language": "python",
   "name": "python3"
  },
  "language_info": {
   "codemirror_mode": {
    "name": "ipython",
    "version": 3
   },
   "file_extension": ".py",
   "mimetype": "text/x-python",
   "name": "python",
   "nbconvert_exporter": "python",
   "pygments_lexer": "ipython3",
   "version": "3.8.8"
  }
 },
 "nbformat": 4,
 "nbformat_minor": 5
}
